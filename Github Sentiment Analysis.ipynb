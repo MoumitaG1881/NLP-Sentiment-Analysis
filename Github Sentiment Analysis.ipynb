{
 "cells": [
  {
   "cell_type": "markdown",
   "id": "cdf825ea",
   "metadata": {},
   "source": [
    "# Sentiment Analysis on Customers' Reviews Using Multinomial Naive Bayes, Logistic Regression, and KNN\n",
    "In this task, we will use several classification models to analyze the sentiment of reviews (given by customers on Amazon). We will classify whether a review is positive (by 1) or negative (by 0) by using the above-mentioned classifiers. \n",
    "\n",
    "**Steps:**\n",
    "1. Importing necessary libraries and load the dataset.\n",
    "2. Data Cleaning\n",
    "3. Data Preprocessing\n",
    "4. Texts Vectorization\n",
    "5. Spliting Dataset into Training & Test sets\n",
    "6. Performing the classification task by using three classification models (Multinomial Naive Bayes, Logistic Regression, and K Nearest Neighbour) independently and evaluate their performance based on Accuracy, Precission, Recall, f1-Score, Confusion Matrix, etc.\n",
    "7. Report the best performing model for this classification task\n",
    "8. Conclusion\n",
    "\n",
    "**Data Source**: Dataset for this task has been collected from Kaggle"
   ]
  },
  {
   "cell_type": "markdown",
   "id": "cb300cf7-7041-47bf-b315-4f56c3a23e9d",
   "metadata": {},
   "source": [
    "## 1. Import Libraries & Load Dataset "
   ]
  },
  {
   "cell_type": "code",
   "execution_count": 25,
   "id": "662795f8",
   "metadata": {},
   "outputs": [],
   "source": [
    "#Importing Libraries\n",
    "import pandas as pd\n",
    "import numpy as np\n",
    "import matplotlib.pyplot as plt\n",
    "import seaborn as sns\n",
    "import re\n",
    "from nltk.tokenize import word_tokenize\n",
    "from nltk.stem import PorterStemmer\n",
    "from nltk.corpus import stopwords\n",
    "stop_words = set(stopwords.words('english'))"
   ]
  },
  {
   "cell_type": "code",
   "execution_count": 27,
   "id": "c6ddaf8c",
   "metadata": {
    "scrolled": true
   },
   "outputs": [
    {
     "data": {
      "text/html": [
       "<div>\n",
       "<style scoped>\n",
       "    .dataframe tbody tr th:only-of-type {\n",
       "        vertical-align: middle;\n",
       "    }\n",
       "\n",
       "    .dataframe tbody tr th {\n",
       "        vertical-align: top;\n",
       "    }\n",
       "\n",
       "    .dataframe thead th {\n",
       "        text-align: right;\n",
       "    }\n",
       "</style>\n",
       "<table border=\"1\" class=\"dataframe\">\n",
       "  <thead>\n",
       "    <tr style=\"text-align: right;\">\n",
       "      <th></th>\n",
       "      <th>rating</th>\n",
       "      <th>date</th>\n",
       "      <th>variation</th>\n",
       "      <th>verified_reviews</th>\n",
       "      <th>feedback</th>\n",
       "    </tr>\n",
       "  </thead>\n",
       "  <tbody>\n",
       "    <tr>\n",
       "      <th>0</th>\n",
       "      <td>5</td>\n",
       "      <td>31-Jul-18</td>\n",
       "      <td>Charcoal Fabric</td>\n",
       "      <td>Love my Echo!</td>\n",
       "      <td>1</td>\n",
       "    </tr>\n",
       "    <tr>\n",
       "      <th>1</th>\n",
       "      <td>5</td>\n",
       "      <td>31-Jul-18</td>\n",
       "      <td>Charcoal Fabric</td>\n",
       "      <td>Loved it!</td>\n",
       "      <td>1</td>\n",
       "    </tr>\n",
       "    <tr>\n",
       "      <th>2</th>\n",
       "      <td>4</td>\n",
       "      <td>31-Jul-18</td>\n",
       "      <td>Walnut Finish</td>\n",
       "      <td>Sometimes while playing a game, you can answer...</td>\n",
       "      <td>1</td>\n",
       "    </tr>\n",
       "    <tr>\n",
       "      <th>3</th>\n",
       "      <td>5</td>\n",
       "      <td>31-Jul-18</td>\n",
       "      <td>Charcoal Fabric</td>\n",
       "      <td>I have had a lot of fun with this thing. My 4 ...</td>\n",
       "      <td>1</td>\n",
       "    </tr>\n",
       "    <tr>\n",
       "      <th>4</th>\n",
       "      <td>5</td>\n",
       "      <td>31-Jul-18</td>\n",
       "      <td>Charcoal Fabric</td>\n",
       "      <td>Music</td>\n",
       "      <td>1</td>\n",
       "    </tr>\n",
       "  </tbody>\n",
       "</table>\n",
       "</div>"
      ],
      "text/plain": [
       "   rating       date         variation  \\\n",
       "0       5  31-Jul-18  Charcoal Fabric    \n",
       "1       5  31-Jul-18  Charcoal Fabric    \n",
       "2       4  31-Jul-18    Walnut Finish    \n",
       "3       5  31-Jul-18  Charcoal Fabric    \n",
       "4       5  31-Jul-18  Charcoal Fabric    \n",
       "\n",
       "                                    verified_reviews  feedback  \n",
       "0                                      Love my Echo!         1  \n",
       "1                                          Loved it!         1  \n",
       "2  Sometimes while playing a game, you can answer...         1  \n",
       "3  I have had a lot of fun with this thing. My 4 ...         1  \n",
       "4                                              Music         1  "
      ]
     },
     "execution_count": 27,
     "metadata": {},
     "output_type": "execute_result"
    }
   ],
   "source": [
    "# Load Dataset\n",
    "data=pd.read_csv(r\"C:\\Users\\Dell\\Desktop\\ML Projects on Github\\WiDS\\NLP Sentiment Analysis from Amazon Reviews\\amazon_alexa.tsv\",sep='\\t')\n",
    "data.head()"
   ]
  },
  {
   "cell_type": "markdown",
   "id": "db29d5d7",
   "metadata": {},
   "source": [
    "## 2. Data Cleaning"
   ]
  },
  {
   "cell_type": "markdown",
   "id": "7b6e3082-40c8-4276-895e-07a383e44a6f",
   "metadata": {},
   "source": [
    "### Handling NaN values in Dataset"
   ]
  },
  {
   "cell_type": "code",
   "execution_count": 31,
   "id": "17e9cc7c",
   "metadata": {},
   "outputs": [
    {
     "data": {
      "text/plain": [
       "rating              0\n",
       "date                0\n",
       "variation           0\n",
       "verified_reviews    1\n",
       "feedback            0\n",
       "dtype: int64"
      ]
     },
     "execution_count": 31,
     "metadata": {},
     "output_type": "execute_result"
    }
   ],
   "source": [
    "# Check if there is any NaN value in Dataset\n",
    "data.isnull().sum()"
   ]
  },
  {
   "cell_type": "code",
   "execution_count": 33,
   "id": "e1e80790-ffd0-4919-b70a-22eb660d9943",
   "metadata": {},
   "outputs": [],
   "source": [
    "# As we found only one instance of NaN value in Dataset (from above), we can drop the corresponding row. It will not affect the Dataset\n",
    "data = data.dropna(subset=[\"verified_reviews\"])"
   ]
  },
  {
   "cell_type": "code",
   "execution_count": 35,
   "id": "5eaf50a9",
   "metadata": {},
   "outputs": [
    {
     "name": "stdout",
     "output_type": "stream",
     "text": [
      "<class 'pandas.core.frame.DataFrame'>\n",
      "Index: 3149 entries, 0 to 3149\n",
      "Data columns (total 5 columns):\n",
      " #   Column            Non-Null Count  Dtype \n",
      "---  ------            --------------  ----- \n",
      " 0   rating            3149 non-null   int64 \n",
      " 1   date              3149 non-null   object\n",
      " 2   variation         3149 non-null   object\n",
      " 3   verified_reviews  3149 non-null   object\n",
      " 4   feedback          3149 non-null   int64 \n",
      "dtypes: int64(2), object(3)\n",
      "memory usage: 147.6+ KB\n"
     ]
    }
   ],
   "source": [
    "# Check the Data Types present in Dataset\n",
    "data.info()"
   ]
  },
  {
   "cell_type": "markdown",
   "id": "fef75a05",
   "metadata": {},
   "source": [
    "## 3. Data Preprocessing"
   ]
  },
  {
   "cell_type": "code",
   "execution_count": 38,
   "id": "ce6074a5",
   "metadata": {},
   "outputs": [
    {
     "name": "stdout",
     "output_type": "stream",
     "text": [
      "Love my Echo! \n",
      "\n",
      "Loved it! \n",
      "\n",
      "Sometimes while playing a game, you can answer a question correctly but Alexa says you got it wrong and answers the same as you.  I like being able to turn lights on and off while away from home. \n",
      "\n",
      "I have had a lot of fun with this thing. My 4 yr old learns about dinosaurs, i control the lights and play games like categories. Has nice sound when playing music as well. \n",
      "\n",
      "Music \n",
      "\n"
     ]
    }
   ],
   "source": [
    "for i in range(5):\n",
    "    print(data['verified_reviews'].iloc[i],\"\\n\")"
   ]
  },
  {
   "cell_type": "code",
   "execution_count": 40,
   "id": "83229c22",
   "metadata": {},
   "outputs": [],
   "source": [
    "def data_processing(text):\n",
    "    \n",
    "#b) Convert words to lower case\n",
    "    text = text.lower() \n",
    "    \n",
    "#a) Tokenizing words\n",
    "    text_tokens = word_tokenize(text)\n",
    "    \n",
    "#c) Removing Punctuations\n",
    "    text = re.sub(r'[^\\w\\s]','',text)\n",
    "    \n",
    "#d) Removing Stop words\n",
    "    filtered_text = [w for w in text_tokens if not w in stop_words]\n",
    "    \n",
    "    return \" \".join(filtered_text)"
   ]
  },
  {
   "cell_type": "code",
   "execution_count": 42,
   "id": "2bd195c8",
   "metadata": {},
   "outputs": [],
   "source": [
    "data.verified_reviews = data['verified_reviews'].apply(data_processing)"
   ]
  },
  {
   "cell_type": "code",
   "execution_count": 44,
   "id": "36721443",
   "metadata": {},
   "outputs": [],
   "source": [
    "# Stemming \n",
    "stemmer = PorterStemmer()\n",
    "def stemming(data):\n",
    "    text = [stemmer.stem(word) for word in data]\n",
    "    return data"
   ]
  },
  {
   "cell_type": "code",
   "execution_count": 46,
   "id": "739baf5c",
   "metadata": {},
   "outputs": [],
   "source": [
    "data['verified_reviews'] = data['verified_reviews'].apply(lambda x: stemming(x))"
   ]
  },
  {
   "cell_type": "code",
   "execution_count": 48,
   "id": "ab5ff82e",
   "metadata": {},
   "outputs": [
    {
     "name": "stdout",
     "output_type": "stream",
     "text": [
      "love echo ! \n",
      "\n",
      "loved ! \n",
      "\n",
      "sometimes playing game , answer question correctly alexa says got wrong answers . like able turn lights away home . \n",
      "\n",
      "lot fun thing . 4 yr old learns dinosaurs , control lights play games like categories . nice sound playing music well . \n",
      "\n",
      "music \n",
      "\n"
     ]
    }
   ],
   "source": [
    "for i in range(5):\n",
    "    print(data['verified_reviews'].iloc[i],\"\\n\")"
   ]
  },
  {
   "cell_type": "markdown",
   "id": "fc8c79f1",
   "metadata": {},
   "source": [
    "## 4. Text Vectorization"
   ]
  },
  {
   "cell_type": "code",
   "execution_count": 51,
   "id": "0561351b",
   "metadata": {},
   "outputs": [],
   "source": [
    "X = data['verified_reviews']\n",
    "Y = data['feedback']\n",
    "\n",
    "#a) Count Vectorizer \n",
    "from sklearn.feature_extraction.text import CountVectorizer\n",
    "cv = CountVectorizer()\n",
    "X = cv.fit_transform(data['verified_reviews'])"
   ]
  },
  {
   "cell_type": "markdown",
   "id": "3f8b5285",
   "metadata": {},
   "source": [
    "## 5. Split Dataset into Training and Test sets"
   ]
  },
  {
   "cell_type": "code",
   "execution_count": 54,
   "id": "5cc8ea84",
   "metadata": {},
   "outputs": [
    {
     "name": "stdout",
     "output_type": "stream",
     "text": [
      "Size of x_train:  (2519, 3961)\n",
      "Size of y_train:  (2519,)\n",
      "Size of x_test:  (630, 3961)\n",
      "Size of y_test:  (630,)\n"
     ]
    }
   ],
   "source": [
    "from sklearn.model_selection import train_test_split\n",
    "x_train, x_test, y_train, y_test = train_test_split(X,Y, test_size=0.2, random_state=42)\n",
    "print(\"Size of x_train: \",(x_train.shape))\n",
    "print(\"Size of y_train: \",(y_train.shape))\n",
    "print(\"Size of x_test: \",(x_test.shape))\n",
    "print(\"Size of y_test: \",(y_test.shape))"
   ]
  },
  {
   "cell_type": "markdown",
   "id": "0edd7c86",
   "metadata": {},
   "source": [
    "## 6. Performing Classification Task by Using Three Classification Models\n"
   ]
  },
  {
   "cell_type": "markdown",
   "id": "b6bc45fb-47dd-4619-843c-6c72e6112cc2",
   "metadata": {},
   "source": [
    "### A. Multinomial Naïve Bayes"
   ]
  },
  {
   "cell_type": "code",
   "execution_count": 58,
   "id": "f082d534",
   "metadata": {},
   "outputs": [],
   "source": [
    "from sklearn.naive_bayes import MultinomialNB\n",
    "mnb = MultinomialNB()\n",
    "mnb.fit(x_train, y_train)\n",
    "mnb_pred = mnb.predict(x_test)"
   ]
  },
  {
   "cell_type": "code",
   "execution_count": 60,
   "id": "ca0ab0ba",
   "metadata": {},
   "outputs": [
    {
     "name": "stdout",
     "output_type": "stream",
     "text": [
      "Accuracy Score: 90.63%\n",
      "\n",
      "Confusion Matrix:\n",
      " [[ 18  45]\n",
      " [ 14 553]]\n",
      "\n",
      "Classification Report:\n",
      "               precision    recall  f1-score   support\n",
      "\n",
      "           0       0.56      0.29      0.38        63\n",
      "           1       0.92      0.98      0.95       567\n",
      "\n",
      "    accuracy                           0.91       630\n",
      "   macro avg       0.74      0.63      0.66       630\n",
      "weighted avg       0.89      0.91      0.89       630\n",
      "\n"
     ]
    }
   ],
   "source": [
    "from sklearn.metrics import accuracy_score, classification_report, confusion_matrix\n",
    "mnb_acc = accuracy_score(mnb_pred, y_test)\n",
    "print('Accuracy Score: {:.2f}%'.format(mnb_acc*100))\n",
    "print('\\nConfusion Matrix:\\n',confusion_matrix(y_test, mnb_pred))\n",
    "print('\\nClassification Report:\\n',classification_report(y_test, mnb_pred))"
   ]
  },
  {
   "cell_type": "markdown",
   "id": "14fc4320",
   "metadata": {},
   "source": [
    "### B. Logistic Regression "
   ]
  },
  {
   "cell_type": "code",
   "execution_count": 63,
   "id": "b8659866",
   "metadata": {},
   "outputs": [],
   "source": [
    "from sklearn.linear_model import LogisticRegression\n",
    "logreg = LogisticRegression()\n",
    "logreg.fit(x_train, y_train)\n",
    "logreg_pred = logreg.predict(x_test)"
   ]
  },
  {
   "cell_type": "code",
   "execution_count": 65,
   "id": "4a382fce",
   "metadata": {},
   "outputs": [
    {
     "name": "stdout",
     "output_type": "stream",
     "text": [
      "Accuracy Score: 92.86%\n",
      "\n",
      "Confusion Matrix:\n",
      " [[ 21  42]\n",
      " [  3 564]]\n",
      "\n",
      "Classification Report:\n",
      "               precision    recall  f1-score   support\n",
      "\n",
      "           0       0.88      0.33      0.48        63\n",
      "           1       0.93      0.99      0.96       567\n",
      "\n",
      "    accuracy                           0.93       630\n",
      "   macro avg       0.90      0.66      0.72       630\n",
      "weighted avg       0.93      0.93      0.91       630\n",
      "\n"
     ]
    }
   ],
   "source": [
    "logreg_acc = accuracy_score(logreg_pred, y_test)\n",
    "print('Accuracy Score: {:.2f}%'.format(logreg_acc*100))\n",
    "print('\\nConfusion Matrix:\\n',confusion_matrix(y_test, logreg_pred))\n",
    "print('\\nClassification Report:\\n',classification_report(y_test, logreg_pred))"
   ]
  },
  {
   "cell_type": "markdown",
   "id": "e5bd2561",
   "metadata": {},
   "source": [
    "### C. K Nearest Neighbour"
   ]
  },
  {
   "cell_type": "code",
   "execution_count": 68,
   "id": "2bbd1229",
   "metadata": {},
   "outputs": [],
   "source": [
    "from sklearn.neighbors import KNeighborsClassifier\n",
    "knn = KNeighborsClassifier()\n",
    "knn.fit(x_train,y_train)\n",
    "knn_pred = knn.predict(x_test)"
   ]
  },
  {
   "cell_type": "code",
   "execution_count": 70,
   "id": "b9f98243",
   "metadata": {},
   "outputs": [
    {
     "name": "stdout",
     "output_type": "stream",
     "text": [
      "Accuracy Score: 89.52%\n",
      "\n",
      "Confusion Matrix: [[  4  59]\n",
      " [  7 560]]\n",
      "\n",
      "Classification Report:\n",
      "               precision    recall  f1-score   support\n",
      "\n",
      "           0       0.36      0.06      0.11        63\n",
      "           1       0.90      0.99      0.94       567\n",
      "\n",
      "    accuracy                           0.90       630\n",
      "   macro avg       0.63      0.53      0.53       630\n",
      "weighted avg       0.85      0.90      0.86       630\n",
      "\n"
     ]
    }
   ],
   "source": [
    "knn_acc = accuracy_score(knn_pred, y_test)\n",
    "print('Accuracy Score: {:.2f}%'.format(knn_acc*100))\n",
    "print('\\nConfusion Matrix:',confusion_matrix(y_test,knn_pred))\n",
    "print('\\nClassification Report:\\n',classification_report(y_test,knn_pred))"
   ]
  },
  {
   "cell_type": "markdown",
   "id": "ab9ada19",
   "metadata": {},
   "source": [
    "## 7. Best Perforning Classification Model for this Sentiment Analysis"
   ]
  },
  {
   "cell_type": "code",
   "execution_count": 81,
   "id": "55308e72",
   "metadata": {},
   "outputs": [
    {
     "data": {
      "image/png": "[encoded data removed]",
      "text/plain": [
       "<Figure size 640x480 with 1 Axes>"
      ]
     },
     "metadata": {},
     "output_type": "display_data"
    }
   ],
   "source": [
    "plt.bar(x=['Multinomial NB','Log. Reg','KNN'],height=[mnb_acc,logreg_acc,knn_acc])\n",
    "plt.xlabel(\"Algorithm\")\n",
    "plt.ylabel(\"Accuracy Score\")\n",
    "plt.show()"
   ]
  },
  {
   "cell_type": "code",
   "execution_count": 83,
   "id": "5dbefbbf",
   "metadata": {},
   "outputs": [
    {
     "name": "stdout",
     "output_type": "stream",
     "text": [
      "The model with the best accuracy for this sentiment analysis task is Logistic Regression\n"
     ]
    }
   ],
   "source": [
    "print('The model with the best accuracy for this sentiment analysis task is Logistic Regression')"
   ]
  },
  {
   "cell_type": "markdown",
   "id": "90846adf-82ae-4704-b8c1-a1cd0e784661",
   "metadata": {},
   "source": [
    "## 8. Conclusion"
   ]
  },
  {
   "cell_type": "markdown",
   "id": "475db9df-b486-4f01-aed2-763a8766a669",
   "metadata": {},
   "source": [
    "From the above model performation evaluation matrices, it is obesrved that all the three models (Multinomial Naive Bayes, Logistic Regression, and K Nearest Neighbour) have performed quite well. Among these three models, Logistic Regression has performed the best (with accuracy 92.86 %) followed by Multinomial Naive Bayes (with accuracy 90.63 %) and K Nearest Neighbour (with accuracy 89.52 %)"
   ]
  }
 ],
 "metadata": {
  "kernelspec": {
   "display_name": "Python 3 (ipykernel)",
   "language": "python",
   "name": "python3"
  },
  "language_info": {
   "codemirror_mode": {
    "name": "ipython",
    "version": 3
   },
   "file_extension": ".py",
   "mimetype": "text/x-python",
   "name": "python",
   "nbconvert_exporter": "python",
   "pygments_lexer": "ipython3",
   "version": "3.12.3"
  }
 },
 "nbformat": 4,
 "nbformat_minor": 5
}
